{
 "cells": [
  {
   "cell_type": "code",
   "execution_count": 1,
   "metadata": {},
   "outputs": [],
   "source": [
    "# 可视化显示魔术命令\n",
    "%matplotlib inline\n",
    "\n",
    "from __future__ import print_function\n",
    "import warnings\n",
    "\n",
    "import numpy as np\n",
    "import matplotlib.pyplot as plt\n",
    "import pandas as pd\n",
    "\n",
    "from sklearn.preprocessing import LabelEncoder\n",
    "from hyperopt import Trials, STATUS_OK, tpe, hp, fmin\n",
    "import xgboost as xgb"
   ]
  },
  {
   "cell_type": "code",
   "execution_count": 2,
   "metadata": {},
   "outputs": [],
   "source": [
    "# Importing the dataset\n",
    "X_train = pd.read_csv(\"./data/train.csv\")\n",
    "X_test = pd.read_csv(\"./data/test.csv\")"
   ]
  },
  {
   "cell_type": "code",
   "execution_count": 3,
   "metadata": {},
   "outputs": [
    {
     "data": {
      "text/html": [
       "<div>\n",
       "<style scoped>\n",
       "    .dataframe tbody tr th:only-of-type {\n",
       "        vertical-align: middle;\n",
       "    }\n",
       "\n",
       "    .dataframe tbody tr th {\n",
       "        vertical-align: top;\n",
       "    }\n",
       "\n",
       "    .dataframe thead th {\n",
       "        text-align: right;\n",
       "    }\n",
       "</style>\n",
       "<table border=\"1\" class=\"dataframe\">\n",
       "  <thead>\n",
       "    <tr style=\"text-align: right;\">\n",
       "      <th></th>\n",
       "      <th>PassengerId</th>\n",
       "      <th>Survived</th>\n",
       "      <th>Pclass</th>\n",
       "      <th>Name</th>\n",
       "      <th>Sex</th>\n",
       "      <th>Age</th>\n",
       "      <th>SibSp</th>\n",
       "      <th>Parch</th>\n",
       "      <th>Ticket</th>\n",
       "      <th>Fare</th>\n",
       "      <th>Cabin</th>\n",
       "      <th>Embarked</th>\n",
       "    </tr>\n",
       "  </thead>\n",
       "  <tbody>\n",
       "    <tr>\n",
       "      <th>0</th>\n",
       "      <td>1</td>\n",
       "      <td>0</td>\n",
       "      <td>3</td>\n",
       "      <td>Braund, Mr. Owen Harris</td>\n",
       "      <td>male</td>\n",
       "      <td>22.0</td>\n",
       "      <td>1</td>\n",
       "      <td>0</td>\n",
       "      <td>A/5 21171</td>\n",
       "      <td>7.2500</td>\n",
       "      <td>NaN</td>\n",
       "      <td>S</td>\n",
       "    </tr>\n",
       "    <tr>\n",
       "      <th>1</th>\n",
       "      <td>2</td>\n",
       "      <td>1</td>\n",
       "      <td>1</td>\n",
       "      <td>Cumings, Mrs. John Bradley (Florence Briggs Th...</td>\n",
       "      <td>female</td>\n",
       "      <td>38.0</td>\n",
       "      <td>1</td>\n",
       "      <td>0</td>\n",
       "      <td>PC 17599</td>\n",
       "      <td>71.2833</td>\n",
       "      <td>C85</td>\n",
       "      <td>C</td>\n",
       "    </tr>\n",
       "    <tr>\n",
       "      <th>2</th>\n",
       "      <td>3</td>\n",
       "      <td>1</td>\n",
       "      <td>3</td>\n",
       "      <td>Heikkinen, Miss. Laina</td>\n",
       "      <td>female</td>\n",
       "      <td>26.0</td>\n",
       "      <td>0</td>\n",
       "      <td>0</td>\n",
       "      <td>STON/O2. 3101282</td>\n",
       "      <td>7.9250</td>\n",
       "      <td>NaN</td>\n",
       "      <td>S</td>\n",
       "    </tr>\n",
       "    <tr>\n",
       "      <th>3</th>\n",
       "      <td>4</td>\n",
       "      <td>1</td>\n",
       "      <td>1</td>\n",
       "      <td>Futrelle, Mrs. Jacques Heath (Lily May Peel)</td>\n",
       "      <td>female</td>\n",
       "      <td>35.0</td>\n",
       "      <td>1</td>\n",
       "      <td>0</td>\n",
       "      <td>113803</td>\n",
       "      <td>53.1000</td>\n",
       "      <td>C123</td>\n",
       "      <td>S</td>\n",
       "    </tr>\n",
       "    <tr>\n",
       "      <th>4</th>\n",
       "      <td>5</td>\n",
       "      <td>0</td>\n",
       "      <td>3</td>\n",
       "      <td>Allen, Mr. William Henry</td>\n",
       "      <td>male</td>\n",
       "      <td>35.0</td>\n",
       "      <td>0</td>\n",
       "      <td>0</td>\n",
       "      <td>373450</td>\n",
       "      <td>8.0500</td>\n",
       "      <td>NaN</td>\n",
       "      <td>S</td>\n",
       "    </tr>\n",
       "  </tbody>\n",
       "</table>\n",
       "</div>"
      ],
      "text/plain": [
       "   PassengerId  Survived  Pclass  \\\n",
       "0            1         0       3   \n",
       "1            2         1       1   \n",
       "2            3         1       3   \n",
       "3            4         1       1   \n",
       "4            5         0       3   \n",
       "\n",
       "                                                Name     Sex   Age  SibSp  \\\n",
       "0                            Braund, Mr. Owen Harris    male  22.0      1   \n",
       "1  Cumings, Mrs. John Bradley (Florence Briggs Th...  female  38.0      1   \n",
       "2                             Heikkinen, Miss. Laina  female  26.0      0   \n",
       "3       Futrelle, Mrs. Jacques Heath (Lily May Peel)  female  35.0      1   \n",
       "4                           Allen, Mr. William Henry    male  35.0      0   \n",
       "\n",
       "   Parch            Ticket     Fare Cabin Embarked  \n",
       "0      0         A/5 21171   7.2500   NaN        S  \n",
       "1      0          PC 17599  71.2833   C85        C  \n",
       "2      0  STON/O2. 3101282   7.9250   NaN        S  \n",
       "3      0            113803  53.1000  C123        S  \n",
       "4      0            373450   8.0500   NaN        S  "
      ]
     },
     "execution_count": 3,
     "metadata": {},
     "output_type": "execute_result"
    }
   ],
   "source": [
    "X_train.head()"
   ]
  },
  {
   "cell_type": "code",
   "execution_count": 4,
   "metadata": {},
   "outputs": [
    {
     "data": {
      "text/plain": [
       "array(['Mr', 'Mrs', 'Miss', 'Master', 'Ms', 'Col', 'Rev', 'Dr', 'Dona'],\n",
       "      dtype=object)"
      ]
     },
     "execution_count": 4,
     "metadata": {},
     "output_type": "execute_result"
    }
   ],
   "source": [
    "# Replace names with titles\n",
    "X_train['Name'] = X_train['Name'].map(lambda x: x.split(',')[1].split('.')[0].strip())\n",
    "titles = X_train['Name'].unique()\n",
    "\n",
    "X_test['Name'] = X_test['Name'].map(lambda x: x.split(',')[1].split('.')[0].strip())\n",
    "titles = X_test['Name'].unique()\n",
    "titles"
   ]
  },
  {
   "cell_type": "code",
   "execution_count": 5,
   "metadata": {},
   "outputs": [],
   "source": [
    "medians = dict()\n",
    "for title in titles:\n",
    "    median = X_train.Age[(X_train[\"Age\"] != -1) & (X_train['Name'] == title)].median()\n",
    "    medians[title] = median"
   ]
  },
  {
   "cell_type": "code",
   "execution_count": 6,
   "metadata": {},
   "outputs": [],
   "source": [
    "for index, row in X_train.iterrows():\n",
    "    if row['Age'] == -1:\n",
    "        X_train.loc[index, 'Age'] = medians[row['Name']]\n",
    "\n",
    "for index, row in X_test.iterrows():\n",
    "    if row['Age'] == -1:\n",
    "        X_test.loc[index, 'Age'] = medians[row['Name']]"
   ]
  },
  {
   "cell_type": "code",
   "execution_count": 7,
   "metadata": {},
   "outputs": [],
   "source": [
    "# Replace titles with numerical values\n",
    "replacement = {\n",
    "    'Don': 0,\n",
    "    'Rev': 0,\n",
    "    'Jonkheer': 0,\n",
    "    'Capt': 0,\n",
    "    'Mr': 1,\n",
    "    'Dr': 2,\n",
    "    'Col': 3,\n",
    "    'Major': 3,\n",
    "    'Master': 4,\n",
    "    'Miss': 5,\n",
    "    'Mrs': 6,\n",
    "    'Mme': 7,\n",
    "    'Ms': 7,\n",
    "    'Mlle': 7,\n",
    "    'Sir': 7,\n",
    "    'Lady': 7,\n",
    "    'the Countess': 7\n",
    "}\n",
    "\n",
    "X_train['Name'] = X_train['Name'].apply(lambda x: replacement.get(x))        \n",
    "X_test['Name'] = X_test['Name'].apply(lambda x: replacement.get(x))"
   ]
  },
  {
   "cell_type": "code",
   "execution_count": 8,
   "metadata": {},
   "outputs": [],
   "source": [
    "# Replace missing fare with class median\n",
    "X_train['Fare'].fillna(-1, inplace=True)\n",
    "X_test['Fare'].fillna(-1, inplace=True)"
   ]
  },
  {
   "cell_type": "code",
   "execution_count": 9,
   "metadata": {},
   "outputs": [],
   "source": [
    "medians = dict()\n",
    "for pclass in X_train['Pclass'].unique():\n",
    "    median = X_train.Fare[(X_train[\"Fare\"] != -1) & (X_train['Pclass'] == pclass)].median()\n",
    "    medians[pclass] = median\n",
    "    \n",
    "for index, row in X_train.iterrows():\n",
    "    if row['Fare'] == -1:\n",
    "        X_train.loc[index, 'Fare'] = medians[row['Pclass']]\n",
    "\n",
    "for index, row in X_test.iterrows():\n",
    "    if row['Fare'] == -1:\n",
    "        X_test.loc[index, 'Fare'] = medians[row['Pclass']]"
   ]
  },
  {
   "cell_type": "code",
   "execution_count": 10,
   "metadata": {},
   "outputs": [],
   "source": [
    "replacement = {\n",
    "    6: 0,\n",
    "    4: 0,\n",
    "    5: 1,\n",
    "    0: 2,\n",
    "    2: 3,\n",
    "    1: 4,\n",
    "    3: 5\n",
    "}\n",
    "X_train['Parch'] = X_train['Parch'].apply(lambda x: replacement.get(x))\n",
    "X_test['Parch'] = X_test['Parch'].apply(lambda x: replacement.get(x))"
   ]
  },
  {
   "cell_type": "code",
   "execution_count": 11,
   "metadata": {},
   "outputs": [],
   "source": [
    "X_train['Embarked'] = X_train['Embarked'].fillna('S')\n",
    "X_test['Embarked'] = X_test['Embarked'].fillna('S')"
   ]
  },
  {
   "cell_type": "code",
   "execution_count": 12,
   "metadata": {},
   "outputs": [],
   "source": [
    "replacement = {\n",
    "    'S': 0,\n",
    "    'Q': 1,\n",
    "    'C': 2\n",
    "}\n",
    "\n",
    "X_train['Embarked'] = X_train['Embarked'].apply(lambda x: replacement.get(x))\n",
    "X_test['Embarked'] = X_test['Embarked'].apply(lambda x: replacement.get(x))"
   ]
  },
  {
   "cell_type": "code",
   "execution_count": 13,
   "metadata": {},
   "outputs": [],
   "source": [
    "replacement  = {\n",
    "    5: 0,\n",
    "    8: 0,\n",
    "    4: 1,\n",
    "    3: 2,\n",
    "    0: 3,\n",
    "    2: 4,\n",
    "    1: 5\n",
    "}\n",
    "\n",
    "X_train['SibSp'] = X_train['SibSp'].apply(lambda x: replacement.get(x))\n",
    "X_test['SibSp'] = X_test['SibSp'].apply(lambda x: replacement.get(x))"
   ]
  },
  {
   "cell_type": "code",
   "execution_count": 14,
   "metadata": {},
   "outputs": [],
   "source": [
    "X_train['Cabin'] = X_train['Cabin'].fillna('U')\n",
    "X_test['Cabin'] = X_test['Cabin'].fillna('U')"
   ]
  },
  {
   "cell_type": "code",
   "execution_count": 15,
   "metadata": {},
   "outputs": [],
   "source": [
    "# Retain first letter only of cabin\n",
    "X_train['Cabin'] = X_train['Cabin'].map(lambda x: x[0])\n",
    "X_test['Cabin'] = X_test['Cabin'].map(lambda x: x[0])"
   ]
  },
  {
   "cell_type": "code",
   "execution_count": 16,
   "metadata": {},
   "outputs": [],
   "source": [
    "replacement = {\n",
    "    'T': 0,\n",
    "    'U': 1,\n",
    "    'A': 2,\n",
    "    'G': 3,\n",
    "    'C': 4,\n",
    "    'F': 5,\n",
    "    'B': 6,\n",
    "    'E': 7,\n",
    "    'D': 8\n",
    "}\n",
    "\n",
    "X_train['Cabin'] = X_train['Cabin'].apply(lambda x: replacement.get(x))\n",
    "X_test['Cabin'] = X_test['Cabin'].apply(lambda x: replacement.get(x))"
   ]
  },
  {
   "cell_type": "code",
   "execution_count": 17,
   "metadata": {},
   "outputs": [],
   "source": [
    "X_train['Sex'] = LabelEncoder().fit_transform(X_train['Sex'])\n",
    "X_test['Sex'] = LabelEncoder().fit_transform(X_test['Sex'])"
   ]
  },
  {
   "cell_type": "code",
   "execution_count": 18,
   "metadata": {},
   "outputs": [],
   "source": [
    "y_train = X_train.iloc[:, 1].values\n",
    "submission = X_test.iloc[:, 0].values\n",
    "submission = pd.DataFrame(submission) \n",
    "submission.columns = ['PassengerId'] "
   ]
  },
  {
   "cell_type": "code",
   "execution_count": 19,
   "metadata": {},
   "outputs": [],
   "source": [
    "# Delete redundant features\n",
    "X_train = X_train.drop(X_train.columns[[1, 8]], axis=1)\n",
    "X_test = X_test.drop(X_test.columns[[7]], axis=1)"
   ]
  },
  {
   "cell_type": "code",
   "execution_count": 20,
   "metadata": {},
   "outputs": [],
   "source": [
    "def objective(space):\n",
    "\n",
    "    warnings.filterwarnings(action='ignore', category=DeprecationWarning)\n",
    "    classifier = xgb.XGBClassifier(n_estimators = space['n_estimators'],\n",
    "                            max_depth = int(space['max_depth']),\n",
    "                            learning_rate = space['learning_rate'],\n",
    "                            gamma = space['gamma'],\n",
    "                            min_child_weight = space['min_child_weight'],\n",
    "                            subsample = space['subsample'],\n",
    "                            colsample_bytree = space['colsample_bytree']\n",
    "                            )\n",
    "    \n",
    "    classifier.fit(X_train, y_train)\n",
    "\n",
    "    # Applying k-Fold Cross Validation\n",
    "    from sklearn.model_selection import cross_val_score\n",
    "    accuracies = cross_val_score(estimator = classifier, X = X_train, y = y_train, cv = 10)\n",
    "    CrossValMean = accuracies.mean()\n",
    "\n",
    "    print(\"CrossValMean:\", CrossValMean)\n",
    "\n",
    "    return{'loss':1-CrossValMean, 'status': STATUS_OK }"
   ]
  },
  {
   "cell_type": "code",
   "execution_count": 21,
   "metadata": {},
   "outputs": [],
   "source": [
    "space = {\n",
    "    'max_depth' : hp.choice('max_depth', range(5, 30, 1)),\n",
    "    'learning_rate' : hp.quniform('learning_rate', 0.01, 0.5, 0.01),\n",
    "    'n_estimators' : hp.choice('n_estimators', range(20, 205, 5)),\n",
    "    'gamma' : hp.quniform('gamma', 0, 0.50, 0.01),\n",
    "    'min_child_weight' : hp.quniform('min_child_weight', 1, 10, 1),\n",
    "    'subsample' : hp.quniform('subsample', 0.1, 1, 0.01),\n",
    "    'colsample_bytree' : hp.quniform('colsample_bytree', 0.1, 1.0, 0.01)}"
   ]
  },
  {
   "cell_type": "code",
   "execution_count": null,
   "metadata": {},
   "outputs": [
    {
     "name": "stdout",
     "output_type": "stream",
     "text": [
      "CrossValMean: 0.7846407899216887\n",
      "CrossValMean: 0.7834916581545794\n",
      "CrossValMean: 0.762130859153331\n",
      "CrossValMean: 0.8037172284644194\n",
      "CrossValMean: 0.8170619112473044\n",
      "CrossValMean: 0.8003087050278062\n",
      "CrossValMean: 0.8204204971058905\n",
      "CrossValMean: 0.7812935535126547\n",
      "CrossValMean: 0.8003081375553286\n",
      "CrossValMean: 0.7946266031097492\n",
      "CrossValMean: 0.7991851095221881\n",
      "CrossValMean: 0.7913074565883554\n",
      "CrossValMean: 0.7767001475428442\n",
      "CrossValMean: 0.8115066394279878\n",
      "CrossValMean: 0.7700087958234026\n",
      "CrossValMean: 0.8059766201339235\n",
      "CrossValMean: 0.8261014640789922\n",
      "CrossValMean: 0.8193593235728068\n",
      "CrossValMean: 0.8014808194302576\n",
      "CrossValMean: 0.7912316990125978\n",
      "CrossValMean: 0.7788954148223812\n",
      "CrossValMean: 0.8283234025649756\n",
      "CrossValMean: 0.8070375099307683\n",
      "CrossValMean: 0.8249401316536147\n",
      "CrossValMean: 0.8171246169560776\n",
      "CrossValMean: 0.7767004312790831\n",
      "CrossValMean: 0.7812824877993417\n",
      "CrossValMean: 0.8070122574055159\n",
      "CrossValMean: 0.8227806151401659\n",
      "CrossValMean: 0.7744274202701169\n",
      "CrossValMean: 0.8059266825558961\n",
      "CrossValMean: 0.8092347633639768\n",
      "CrossValMean: 0.762143343547838\n",
      "CrossValMean: 0.8237790829644762\n",
      "CrossValMean: 0.7577718193167632\n",
      "CrossValMean: 0.8149032459425717\n",
      "CrossValMean: 0.8260631596867553\n",
      "CrossValMean: 0.7913315741686529\n",
      "CrossValMean: 0.8036542390194077\n",
      "CrossValMean: 0.7957890704800817\n",
      "CrossValMean: 0.7935410282601294\n",
      "CrossValMean: 0.8137918510952218\n",
      "CrossValMean: 0.8182110430144137\n",
      "CrossValMean: 0.7856889115877879\n",
      "CrossValMean: 0.8148150039723074\n",
      "CrossValMean: 0.821656735898309\n",
      "CrossValMean: 0.7777607536034502\n",
      "CrossValMean: 0.7800944841675179\n",
      "CrossValMean: 0.7857629667461128\n",
      "CrossValMean: 0.8126801725116332\n",
      "CrossValMean: 0.831744126659857\n",
      "CrossValMean: 0.8284232777210306\n",
      "CrossValMean: 0.8250144705481783\n",
      "CrossValMean: 0.7947151288162524\n",
      "CrossValMean: 0.777848711837476\n",
      "CrossValMean: 0.8227045738281694\n",
      "CrossValMean: 0.8215687776642833\n"
     ]
    }
   ],
   "source": [
    "trials = Trials()\n",
    "best = fmin(fn=objective,\n",
    "            space=space,\n",
    "            algo=tpe.suggest,\n",
    "            max_evals=100,\n",
    "            trials=trials)\n",
    "print(\"Best: \", best)"
   ]
  },
  {
   "cell_type": "code",
   "execution_count": null,
   "metadata": {},
   "outputs": [],
   "source": [
    "# Fitting XGBoost to the Training set\n",
    "from xgboost import XGBClassifier\n",
    "classifier = XGBClassifier(n_estimators = best['n_estimators'],\n",
    "                            max_depth = best['max_depth'],\n",
    "                            learning_rate = best['learning_rate'],\n",
    "                            gamma = best['gamma'],\n",
    "                            min_child_weight = best['min_child_weight'],\n",
    "                            subsample = best['subsample'],\n",
    "                            colsample_bytree = best['colsample_bytree']\n",
    "                            )\n",
    "\n",
    "classifier.fit(X_train, y_train)"
   ]
  },
  {
   "cell_type": "code",
   "execution_count": null,
   "metadata": {},
   "outputs": [],
   "source": [
    "# Applying k-Fold Cross Validation\n",
    "from sklearn.model_selection import cross_val_score\n",
    "accuracies = cross_val_score(estimator = classifier, X = X_train, y = y_train, cv = 10)\n",
    "CrossValMean = accuracies.mean()\n",
    "print(\"Final CrossValMean: \", CrossValMean)"
   ]
  },
  {
   "cell_type": "code",
   "execution_count": null,
   "metadata": {},
   "outputs": [],
   "source": [
    "# Predicting the Test set results\n",
    "y_pred = classifier.predict(X_test)\n",
    "y_pred = pd.DataFrame(y_pred) \n",
    "y_pred.columns = ['Survived'] \n",
    "submission = submission.join(y_pred) \n",
    "\n",
    "# Exporting dataset to csv\n",
    "submission.to_csv(\"./data/Titanic_Submission.csv\", index=False, sep=',')"
   ]
  },
  {
   "cell_type": "code",
   "execution_count": null,
   "metadata": {},
   "outputs": [],
   "source": []
  }
 ],
 "metadata": {
  "kernelspec": {
   "display_name": "Python 3",
   "language": "python",
   "name": "python3"
  },
  "language_info": {
   "codemirror_mode": {
    "name": "ipython",
    "version": 3
   },
   "file_extension": ".py",
   "mimetype": "text/x-python",
   "name": "python",
   "nbconvert_exporter": "python",
   "pygments_lexer": "ipython3",
   "version": "3.6.5"
  }
 },
 "nbformat": 4,
 "nbformat_minor": 2
}
