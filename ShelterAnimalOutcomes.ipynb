{
 "cells": [
  {
   "cell_type": "code",
   "execution_count": 1,
   "metadata": {},
   "outputs": [
    {
     "name": "stderr",
     "output_type": "stream",
     "text": [
      "E:\\Anaconda3\\tensorflow\\lib\\site-packages\\sklearn\\cross_validation.py:41: DeprecationWarning: This module was deprecated in version 0.18 in favor of the model_selection module into which all the refactored classes and functions are moved. Also note that the interface of the new CV iterators are different from that of this module. This module will be removed in 0.20.\n",
      "  \"This module will be removed in 0.20.\", DeprecationWarning)\n",
      "E:\\Anaconda3\\tensorflow\\lib\\site-packages\\sklearn\\grid_search.py:42: DeprecationWarning: This module was deprecated in version 0.18 in favor of the model_selection module into which all the refactored classes and functions are moved. This module will be removed in 0.20.\n",
      "  DeprecationWarning)\n"
     ]
    }
   ],
   "source": [
    "import pandas as pd\n",
    "import numpy as np\n",
    "from sklearn.ensemble import RandomForestClassifier\n",
    "from sklearn.grid_search import GridSearchCV\n",
    "import sys\n",
    "from datetime import datetime\n",
    "from sklearn.model_selection import StratifiedKFold\n",
    "from sklearn.model_selection import KFold\n",
    "from sklearn.model_selection import GroupKFold\n",
    "from sklearn.model_selection import RandomizedSearchCV\n",
    "import warnings\n",
    "warnings.filterwarnings(module='sklearn*', action='ignore', category=DeprecationWarning)\n",
    "warnings.filterwarnings(\"ignore\")"
   ]
  },
  {
   "cell_type": "code",
   "execution_count": 2,
   "metadata": {},
   "outputs": [],
   "source": [
    "def munge(data, train):\n",
    "    data['HasName'] = data['Name'].fillna(0)\n",
    "    data.loc[data['HasName'] != 0,\"HasName\"] = 1\n",
    "    data['HasName'] = data['HasName'].astype(int)\n",
    "    data['AnimalType'] = data['AnimalType'].map({'Cat':0,'Dog':1})\n",
    "\n",
    "    if(train):\n",
    "        data.drop(['AnimalID','OutcomeSubtype'],axis=1, inplace=True)\n",
    "        data['OutcomeType'] = data['OutcomeType'].map({'Return_to_owner':4, 'Euthanasia':3, 'Adoption':0, 'Transfer':5, 'Died':2})\n",
    "            \n",
    "    gender = {'Neutered Male':1, 'Spayed Female':2, 'Intact Male':3, 'Intact Female':4, 'Unknown':5, np.nan:0}\n",
    "    data['SexuponOutcome'] = data['SexuponOutcome'].map(gender)\n",
    "\n",
    "    def agetodays(x):\n",
    "        try:\n",
    "            y = x.split()\n",
    "        except:\n",
    "            return None \n",
    "        if 'year' in y[1]:\n",
    "            return float(y[0]) * 365\n",
    "        elif 'month' in y[1]:\n",
    "            return float(y[0]) * (365/12)\n",
    "        elif 'week' in y[1]:\n",
    "            return float(y[0]) * 7\n",
    "        elif 'day' in y[1]:\n",
    "            return float(y[0])\n",
    "        \n",
    "    data['AgeInDays'] = data['AgeuponOutcome'].map(agetodays)\n",
    "    data.loc[(data['AgeInDays'].isnull()),'AgeInDays'] = data['AgeInDays'].median()\n",
    "\n",
    "    data['Year'] = data['DateTime'].str[:4].astype(int)\n",
    "    data['Month'] = data['DateTime'].str[5:7].astype(int)\n",
    "    data['Day'] = data['DateTime'].str[8:10].astype(int)\n",
    "    data['Hour'] = data['DateTime'].str[11:13].astype(int)\n",
    "    data['Minute'] = data['DateTime'].str[14:16].astype(int)\n",
    "\n",
    "    data['Name+Gender'] = data['HasName'] + data['SexuponOutcome']\n",
    "    data['Type+Gender'] = data['AnimalType'] + data['SexuponOutcome']\n",
    "    data['IsMix'] = data['Breed'].str.contains('mix',case=False).astype(int)\n",
    "            \n",
    "    return data.drop(['AgeuponOutcome','Name','Breed','Color','DateTime'],axis=1)"
   ]
  },
  {
   "cell_type": "code",
   "execution_count": 3,
   "metadata": {},
   "outputs": [],
   "source": [
    "def best_params(data):\n",
    "    rfc = RandomForestClassifier()\n",
    "    param_grid = { \n",
    "        'n_estimators': [50, 400],\n",
    "        'max_features': ['auto', 'sqrt', 'log2']\n",
    "    }\n",
    "    \n",
    "    CV_rfc = GridSearchCV(estimator=rfc, param_grid=param_grid, cv= 5)\n",
    "    CV_rfc.fit(data[0::,1::],data[0::,0])\n",
    "    return CV_rfc.best_params_"
   ]
  },
  {
   "cell_type": "code",
   "execution_count": 4,
   "metadata": {},
   "outputs": [
    {
     "name": "stdout",
     "output_type": "stream",
     "text": [
      "Loading data...\n",
      "\n"
     ]
    },
    {
     "data": {
      "text/html": [
       "<div>\n",
       "<style scoped>\n",
       "    .dataframe tbody tr th:only-of-type {\n",
       "        vertical-align: middle;\n",
       "    }\n",
       "\n",
       "    .dataframe tbody tr th {\n",
       "        vertical-align: top;\n",
       "    }\n",
       "\n",
       "    .dataframe thead th {\n",
       "        text-align: right;\n",
       "    }\n",
       "</style>\n",
       "<table border=\"1\" class=\"dataframe\">\n",
       "  <thead>\n",
       "    <tr style=\"text-align: right;\">\n",
       "      <th></th>\n",
       "      <th>AnimalID</th>\n",
       "      <th>Name</th>\n",
       "      <th>DateTime</th>\n",
       "      <th>OutcomeType</th>\n",
       "      <th>OutcomeSubtype</th>\n",
       "      <th>AnimalType</th>\n",
       "      <th>SexuponOutcome</th>\n",
       "      <th>AgeuponOutcome</th>\n",
       "      <th>Breed</th>\n",
       "      <th>Color</th>\n",
       "    </tr>\n",
       "  </thead>\n",
       "  <tbody>\n",
       "    <tr>\n",
       "      <th>0</th>\n",
       "      <td>A671945</td>\n",
       "      <td>Hambone</td>\n",
       "      <td>2014-02-12 18:22:00</td>\n",
       "      <td>Return_to_owner</td>\n",
       "      <td>NaN</td>\n",
       "      <td>Dog</td>\n",
       "      <td>Neutered Male</td>\n",
       "      <td>1 year</td>\n",
       "      <td>Shetland Sheepdog Mix</td>\n",
       "      <td>Brown/White</td>\n",
       "    </tr>\n",
       "    <tr>\n",
       "      <th>1</th>\n",
       "      <td>A656520</td>\n",
       "      <td>Emily</td>\n",
       "      <td>2013-10-13 12:44:00</td>\n",
       "      <td>Euthanasia</td>\n",
       "      <td>Suffering</td>\n",
       "      <td>Cat</td>\n",
       "      <td>Spayed Female</td>\n",
       "      <td>1 year</td>\n",
       "      <td>Domestic Shorthair Mix</td>\n",
       "      <td>Cream Tabby</td>\n",
       "    </tr>\n",
       "    <tr>\n",
       "      <th>2</th>\n",
       "      <td>A686464</td>\n",
       "      <td>Pearce</td>\n",
       "      <td>2015-01-31 12:28:00</td>\n",
       "      <td>Adoption</td>\n",
       "      <td>Foster</td>\n",
       "      <td>Dog</td>\n",
       "      <td>Neutered Male</td>\n",
       "      <td>2 years</td>\n",
       "      <td>Pit Bull Mix</td>\n",
       "      <td>Blue/White</td>\n",
       "    </tr>\n",
       "    <tr>\n",
       "      <th>3</th>\n",
       "      <td>A683430</td>\n",
       "      <td>NaN</td>\n",
       "      <td>2014-07-11 19:09:00</td>\n",
       "      <td>Transfer</td>\n",
       "      <td>Partner</td>\n",
       "      <td>Cat</td>\n",
       "      <td>Intact Male</td>\n",
       "      <td>3 weeks</td>\n",
       "      <td>Domestic Shorthair Mix</td>\n",
       "      <td>Blue Cream</td>\n",
       "    </tr>\n",
       "    <tr>\n",
       "      <th>4</th>\n",
       "      <td>A667013</td>\n",
       "      <td>NaN</td>\n",
       "      <td>2013-11-15 12:52:00</td>\n",
       "      <td>Transfer</td>\n",
       "      <td>Partner</td>\n",
       "      <td>Dog</td>\n",
       "      <td>Neutered Male</td>\n",
       "      <td>2 years</td>\n",
       "      <td>Lhasa Apso/Miniature Poodle</td>\n",
       "      <td>Tan</td>\n",
       "    </tr>\n",
       "  </tbody>\n",
       "</table>\n",
       "</div>"
      ],
      "text/plain": [
       "  AnimalID     Name             DateTime      OutcomeType OutcomeSubtype  \\\n",
       "0  A671945  Hambone  2014-02-12 18:22:00  Return_to_owner            NaN   \n",
       "1  A656520    Emily  2013-10-13 12:44:00       Euthanasia      Suffering   \n",
       "2  A686464   Pearce  2015-01-31 12:28:00         Adoption         Foster   \n",
       "3  A683430      NaN  2014-07-11 19:09:00         Transfer        Partner   \n",
       "4  A667013      NaN  2013-11-15 12:52:00         Transfer        Partner   \n",
       "\n",
       "  AnimalType SexuponOutcome AgeuponOutcome                        Breed  \\\n",
       "0        Dog  Neutered Male         1 year        Shetland Sheepdog Mix   \n",
       "1        Cat  Spayed Female         1 year       Domestic Shorthair Mix   \n",
       "2        Dog  Neutered Male        2 years                 Pit Bull Mix   \n",
       "3        Cat    Intact Male        3 weeks       Domestic Shorthair Mix   \n",
       "4        Dog  Neutered Male        2 years  Lhasa Apso/Miniature Poodle   \n",
       "\n",
       "         Color  \n",
       "0  Brown/White  \n",
       "1  Cream Tabby  \n",
       "2   Blue/White  \n",
       "3   Blue Cream  \n",
       "4          Tan  "
      ]
     },
     "execution_count": 4,
     "metadata": {},
     "output_type": "execute_result"
    }
   ],
   "source": [
    "in_file_train = 'data/train.csv'\n",
    "in_file_test = 'data/test.csv'\n",
    "\n",
    "print(\"Loading data...\\n\")\n",
    "pd_train = pd.read_csv(in_file_train)\n",
    "pd_test = pd.read_csv(in_file_test)\n",
    "pd_train.head()"
   ]
  },
  {
   "cell_type": "code",
   "execution_count": 5,
   "metadata": {},
   "outputs": [
    {
     "data": {
      "text/html": [
       "<div>\n",
       "<style scoped>\n",
       "    .dataframe tbody tr th:only-of-type {\n",
       "        vertical-align: middle;\n",
       "    }\n",
       "\n",
       "    .dataframe tbody tr th {\n",
       "        vertical-align: top;\n",
       "    }\n",
       "\n",
       "    .dataframe thead th {\n",
       "        text-align: right;\n",
       "    }\n",
       "</style>\n",
       "<table border=\"1\" class=\"dataframe\">\n",
       "  <thead>\n",
       "    <tr style=\"text-align: right;\">\n",
       "      <th></th>\n",
       "      <th>ID</th>\n",
       "      <th>Name</th>\n",
       "      <th>DateTime</th>\n",
       "      <th>AnimalType</th>\n",
       "      <th>SexuponOutcome</th>\n",
       "      <th>AgeuponOutcome</th>\n",
       "      <th>Breed</th>\n",
       "      <th>Color</th>\n",
       "    </tr>\n",
       "  </thead>\n",
       "  <tbody>\n",
       "    <tr>\n",
       "      <th>0</th>\n",
       "      <td>1</td>\n",
       "      <td>Summer</td>\n",
       "      <td>2015-10-12 12:15:00</td>\n",
       "      <td>Dog</td>\n",
       "      <td>Intact Female</td>\n",
       "      <td>10 months</td>\n",
       "      <td>Labrador Retriever Mix</td>\n",
       "      <td>Red/White</td>\n",
       "    </tr>\n",
       "    <tr>\n",
       "      <th>1</th>\n",
       "      <td>2</td>\n",
       "      <td>Cheyenne</td>\n",
       "      <td>2014-07-26 17:59:00</td>\n",
       "      <td>Dog</td>\n",
       "      <td>Spayed Female</td>\n",
       "      <td>2 years</td>\n",
       "      <td>German Shepherd/Siberian Husky</td>\n",
       "      <td>Black/Tan</td>\n",
       "    </tr>\n",
       "    <tr>\n",
       "      <th>2</th>\n",
       "      <td>3</td>\n",
       "      <td>Gus</td>\n",
       "      <td>2016-01-13 12:20:00</td>\n",
       "      <td>Cat</td>\n",
       "      <td>Neutered Male</td>\n",
       "      <td>1 year</td>\n",
       "      <td>Domestic Shorthair Mix</td>\n",
       "      <td>Brown Tabby</td>\n",
       "    </tr>\n",
       "    <tr>\n",
       "      <th>3</th>\n",
       "      <td>4</td>\n",
       "      <td>Pongo</td>\n",
       "      <td>2013-12-28 18:12:00</td>\n",
       "      <td>Dog</td>\n",
       "      <td>Intact Male</td>\n",
       "      <td>4 months</td>\n",
       "      <td>Collie Smooth Mix</td>\n",
       "      <td>Tricolor</td>\n",
       "    </tr>\n",
       "    <tr>\n",
       "      <th>4</th>\n",
       "      <td>5</td>\n",
       "      <td>Skooter</td>\n",
       "      <td>2015-09-24 17:59:00</td>\n",
       "      <td>Dog</td>\n",
       "      <td>Neutered Male</td>\n",
       "      <td>2 years</td>\n",
       "      <td>Miniature Poodle Mix</td>\n",
       "      <td>White</td>\n",
       "    </tr>\n",
       "  </tbody>\n",
       "</table>\n",
       "</div>"
      ],
      "text/plain": [
       "   ID      Name             DateTime AnimalType SexuponOutcome AgeuponOutcome  \\\n",
       "0   1    Summer  2015-10-12 12:15:00        Dog  Intact Female      10 months   \n",
       "1   2  Cheyenne  2014-07-26 17:59:00        Dog  Spayed Female        2 years   \n",
       "2   3       Gus  2016-01-13 12:20:00        Cat  Neutered Male         1 year   \n",
       "3   4     Pongo  2013-12-28 18:12:00        Dog    Intact Male       4 months   \n",
       "4   5   Skooter  2015-09-24 17:59:00        Dog  Neutered Male        2 years   \n",
       "\n",
       "                            Breed        Color  \n",
       "0          Labrador Retriever Mix    Red/White  \n",
       "1  German Shepherd/Siberian Husky    Black/Tan  \n",
       "2          Domestic Shorthair Mix  Brown Tabby  \n",
       "3               Collie Smooth Mix     Tricolor  \n",
       "4            Miniature Poodle Mix        White  "
      ]
     },
     "execution_count": 5,
     "metadata": {},
     "output_type": "execute_result"
    }
   ],
   "source": [
    "pd_test.head()"
   ]
  },
  {
   "cell_type": "code",
   "execution_count": 6,
   "metadata": {},
   "outputs": [
    {
     "name": "stdout",
     "output_type": "stream",
     "text": [
      "Munging data...\n",
      "\n",
      "Calculating best case params...\n",
      "\n"
     ]
    }
   ],
   "source": [
    "print(\"Munging data...\\n\")\n",
    "pd_train = munge(pd_train,True)\n",
    "pd_test = munge(pd_test,False)\n",
    "\n",
    "pd_test.drop('ID',inplace=True,axis=1)\n",
    "\n",
    "train = pd_train.values\n",
    "test = pd_test.values\n",
    "\n",
    "print(\"Calculating best case params...\\n\")\n",
    "# print(best_params(train))"
   ]
  },
  {
   "cell_type": "code",
   "execution_count": 7,
   "metadata": {},
   "outputs": [
    {
     "name": "stdout",
     "output_type": "stream",
     "text": [
      "(26729, 13)\n",
      "(11456, 12)\n"
     ]
    }
   ],
   "source": [
    "print(pd_train.shape)\n",
    "print(pd_test.shape)\n",
    "# print(pd_train.values[0])\n",
    "# print(pd_test.values[0])"
   ]
  },
  {
   "cell_type": "code",
   "execution_count": 8,
   "metadata": {},
   "outputs": [
    {
     "name": "stdout",
     "output_type": "stream",
     "text": [
      "(16037, 12)\n",
      "(16037,)\n",
      "(5346, 12)\n",
      "(5346,)\n",
      "(5346, 12)\n",
      "(5346,)\n"
     ]
    }
   ],
   "source": [
    "from sklearn.cross_validation import train_test_split\n",
    "# 导入必要的工具包\n",
    "# import xgboost as xgb\n",
    "from xgboost import XGBClassifier\n",
    "import xgboost as xgb\n",
    "# 计算分类正确率\n",
    "from sklearn.metrics import accuracy_score\n",
    "\n",
    "train = pd_train.values\n",
    "X, y = train[0::,1::], train[0::,0]\n",
    "X_train, x_test, y_train, y_test = train_test_split(X, y, test_size=0.2, random_state=0)\n",
    "X_train, x_val, y_train, y_val = train_test_split(X_train, y_train, test_size=0.25, random_state=0)\n",
    "print(X_train.shape)\n",
    "print(y_train.shape)\n",
    "print(x_val.shape)\n",
    "print(y_val.shape)\n",
    "print(x_test.shape)\n",
    "print(y_test.shape)"
   ]
  },
  {
   "cell_type": "code",
   "execution_count": 9,
   "metadata": {},
   "outputs": [],
   "source": [
    "def getAccuracy(model, x_test, y_test):\n",
    "    y_pred = model.predict(x_test)\n",
    "    predictions = [round(value) for value in y_pred]\n",
    "    accuracy = accuracy_score(y_test, predictions)\n",
    "    print(\"Accuracy: %.2f%%\" % (accuracy * 100.0))"
   ]
  },
  {
   "cell_type": "code",
   "execution_count": 10,
   "metadata": {},
   "outputs": [],
   "source": [
    "# max_depth： 树的最大深度。缺省值为6，取值范围为：[1,∞]\n",
    "# eta：为了防止过拟合，更新过程中用到的收缩步长。在每次提升计算之后，算法会直接获得新特征的权重。 \n",
    "# eta通过缩减特征的权重使提升计算过程更加保守。缺省值为0.3，取值范围为：[0,1]\n",
    "# silent：取0时表示打印出运行时信息，取1时表示以缄默方式运行，不打印运行时信息。缺省值为0\n",
    "# objective： 定义学习任务及相应的学习目标，“binary:logistic” 表示二分类的逻辑回归问题，输出为概率。\n",
    "\n",
    "param = {'max_depth':2, 'eta':1, 'silent':0, 'objective':'multi:softmax' }\n",
    "# bst = xgb.train(param, dtrain, num_round) #  dtrain是训练数据集"
   ]
  },
  {
   "cell_type": "code",
   "execution_count": 11,
   "metadata": {},
   "outputs": [
    {
     "name": "stdout",
     "output_type": "stream",
     "text": [
      "1.2997155126450588\n"
     ]
    }
   ],
   "source": [
    "# 设置boosting迭代计算次数\n",
    "num_round = 2\n",
    "import time\n",
    "starttime = time.clock()\n",
    "model = xgb.sklearn.XGBClassifier(learning_rate=0.01, n_estimators=100, max_depth=5, n_jobs=-1)\n",
    "eval_set = [(x_test, y_test)]\n",
    "model.fit(X_train,y_train,eval_metric='auc')\n",
    "endtime = time.clock()\n",
    "print (endtime - starttime)"
   ]
  },
  {
   "cell_type": "code",
   "execution_count": 12,
   "metadata": {},
   "outputs": [
    {
     "name": "stdout",
     "output_type": "stream",
     "text": [
      "1.7002687680491313\n",
      "Accuracy: 66.35%\n"
     ]
    }
   ],
   "source": [
    "# 设置boosting迭代计算次数\n",
    "# 设置early_stopping_rounds=10，当logloss在10轮迭代之内，都没有提升的话，就stop。如果说eval_metric有很多个指标，那就以最后一个指标为准。\n",
    "import time\n",
    "starttime = time.clock()\n",
    "model = xgb.sklearn.XGBClassifier(learning_rate=0.01, n_estimators=100, max_depth=5, n_jobs=-1)\n",
    "# early_stopping_rounds=10\n",
    "#设置验证集合 verbose=True打印过程\n",
    "# eval_metric merror mlogloss\n",
    "model.fit(X_train, y_train, eval_set=[(X_train, y_train), (x_val, y_val)], eval_metric='mlogloss', early_stopping_rounds=10, verbose=False)\n",
    "endtime = time.clock()\n",
    "print (endtime - starttime)\n",
    "getAccuracy(model, x_test, y_test)"
   ]
  },
  {
   "cell_type": "code",
   "execution_count": 13,
   "metadata": {},
   "outputs": [
    {
     "data": {
      "image/png": "[encoded data removed]",
      "text/plain": [
       "<Figure size 432x288 with 1 Axes>"
      ]
     },
     "metadata": {},
     "output_type": "display_data"
    }
   ],
   "source": [
    "%matplotlib inline\n",
    "from xgboost import plot_importance\n",
    "from matplotlib import pyplot\n",
    "model.fit(X_train, y_train)\n",
    "\n",
    "plot_importance(model)\n",
    "pyplot.show()"
   ]
  },
  {
   "cell_type": "code",
   "execution_count": 14,
   "metadata": {},
   "outputs": [],
   "source": [
    "# GridSearchCV + XGBRegressor + early_stopping_rounds\n",
    "# paramGrid = {\"subsample\" : [0.5, 0.8]}\n",
    "# fit_params={\"early_stopping_rounds\":42, \n",
    "#             \"eval_metric\" : \"mae\", \n",
    "#             \"eval_set\" : [[testX, testY]]}\n",
    "# model = xgb.XGBRegressor()\n",
    "# gridsearch = GridSearchCV(model, paramGrid, verbose=1 ,\n",
    "#          fit_params=fit_params,\n",
    "#          cv=TimeSeriesSplit(n_splits=cv).get_n_splits([trainX,trainY]))\n",
    "# gridsearch.fit(trainX,trainY)"
   ]
  },
  {
   "cell_type": "code",
   "execution_count": 15,
   "metadata": {},
   "outputs": [],
   "source": [
    "from sklearn import cross_validation, metrics\n",
    "from sklearn.model_selection import TimeSeriesSplit\n",
    "\n",
    "def modelfit(alg, X_train=X_train, y_train=y_train, x_val=x_val, y_val=y_val,useTrainCV=True, cv_folds=5, early_stopping_rounds=10):\n",
    "    #Fit the algorithm on the data\n",
    "#     if useTrainCV:\n",
    "#         xgb_param = alg.get_xgb_params()\n",
    "#         xgtrain = xgb.DMatrix(X_train, label=y_train)\n",
    "#         cvresult = xgb.cv(xgb_param, xgtrain, num_boost_round=alg.get_params()['n_estimators'], nfold=cv_folds,\n",
    "#             metrics='auc', early_stopping_rounds=early_stopping_rounds)\n",
    "#         alg.set_params(n_estimators=cvresult.shape[0])\n",
    "    eval_set = [(x_val, y_val)]\n",
    "    starttime = time.clock()\n",
    "    alg.fit(X_train,\n",
    "            y_train,\n",
    "            eval_set=[(X_train, y_train), (x_val, y_val)],\n",
    "            eval_metric='mlogloss',\n",
    "            early_stopping_rounds=10,\n",
    "            verbose=False)\n",
    "    endtime = time.clock()\n",
    "    print('fit time:', endtime - starttime)\n",
    "    #Predict training set:\n",
    "    y_pred = model.predict(x_val)\n",
    "    predictions = [round(value) for value in y_pred]\n",
    "    accuracy = accuracy_score(y_val, predictions)\n",
    "    print(\"Accuracy: %.2f%%\" % (accuracy * 100.0))\n",
    "    #Perform cross-validation:\n",
    "    fit_params={'early_stopping_rounds': 30, \n",
    "            'eval_metric': 'merror', # importance\n",
    "            'verbose': False,\n",
    "            'eval_set': [[x_val, y_val]]} # importance\n",
    "    cv = 2\n",
    "    cv=TimeSeriesSplit(n_splits=cv).get_n_splits([X_train, y_train])\n",
    "    cv_score = cross_validation.cross_val_score(alg,\n",
    "                                                x_val,\n",
    "                                                y_val,\n",
    "                                                cv=cv,\n",
    "                                                scoring='r2',\n",
    "                                                fit_params = fit_params)\n",
    "    cv_score = np.sqrt(np.abs(cv_score))\n",
    "    #Print model report:\n",
    "    print(\"\\nModel Report\")\n",
    "    print(\"RMSE : %.4g\" % np.sqrt(metrics.mean_squared_error(y_val, predictions)))\n",
    "    print(\"CV Score : Mean - %.4g | Std - %.4g | Min - %.4g | Max - %.4g\" % (np.mean(cv_score),np.std(cv_score),np.min(cv_score),np.max(cv_score)))"
   ]
  },
  {
   "cell_type": "code",
   "execution_count": 16,
   "metadata": {},
   "outputs": [],
   "source": [
    "xgb1 = XGBClassifier(\n",
    "    learning_rate =0.1,\n",
    "    n_estimators=100,\n",
    "    max_depth=5,\n",
    "    min_child_weight=1,\n",
    "    gamma=0,\n",
    "    subsample=0.8,\n",
    "    colsample_bytree=0.8,\n",
    "    objective= 'multi:softmax',\n",
    "    n_jobs=-1,\n",
    "    scale_pos_weight=1,\n",
    "    seed=17)"
   ]
  },
  {
   "cell_type": "code",
   "execution_count": 17,
   "metadata": {},
   "outputs": [
    {
     "name": "stdout",
     "output_type": "stream",
     "text": [
      "fit time: 1.946488275001876\n",
      "Accuracy: 66.59%\n",
      "\n",
      "Model Report\n",
      "RMSE : 2.236\n",
      "CV Score : Mean - 0.1557 | Std - 0.0003811 | Min - 0.1553 | Max - 0.1561\n"
     ]
    }
   ],
   "source": [
    "modelfit(alg=xgb1)"
   ]
  },
  {
   "cell_type": "code",
   "execution_count": 21,
   "metadata": {},
   "outputs": [
    {
     "name": "stdout",
     "output_type": "stream",
     "text": [
      "Fitting 5 folds for each of 3 candidates, totalling 15 fits\n"
     ]
    },
    {
     "name": "stderr",
     "output_type": "stream",
     "text": [
      "[Parallel(n_jobs=1)]: Done  15 out of  15 | elapsed:   32.0s finished\n"
     ]
    },
    {
     "name": "stdout",
     "output_type": "stream",
     "text": [
      "Best: 0.680364 using {'max_depth': 9}\n"
     ]
    }
   ],
   "source": [
    "xgb2 = XGBClassifier(\n",
    "    learning_rate =0.1,\n",
    "    n_estimators=100,\n",
    "    max_depth=7,\n",
    "    min_child_weight=1,\n",
    "    gamma=0,\n",
    "    subsample=0.8,\n",
    "    colsample_bytree=0.8,\n",
    "    objective= 'multi:softmax',\n",
    "    n_jobs=-1,\n",
    "    scale_pos_weight=1,\n",
    "    seed=27)\n",
    "param_grid = {\n",
    "    'max_depth':[5,7,9]\n",
    "}\n",
    "kfold = KFold(n_splits=5, shuffle=True, random_state=27)\n",
    "# kfold = KFold(n_splits=5)\n",
    "grid_search=RandomizedSearchCV(xgb2, param_grid, scoring='accuracy', cv=kfold, n_iter=3, verbose=1)\n",
    "# grid_search = GridSearchCV(xgb2, param_grid, scoring=\"accuracy\", n_jobs=-1, cv=kfold, verbose=1)\n",
    "grid_result = grid_search.fit(X_train, y_train)\n",
    "print(\"Best: %f using %s\" % (grid_result.best_score_, grid_result.best_params_))"
   ]
  },
  {
   "cell_type": "code",
   "execution_count": 22,
   "metadata": {},
   "outputs": [
    {
     "name": "stdout",
     "output_type": "stream",
     "text": [
      "Fitting 5 folds for each of 3 candidates, totalling 15 fits\n"
     ]
    },
    {
     "name": "stderr",
     "output_type": "stream",
     "text": [
      "[Parallel(n_jobs=1)]: Done  15 out of  15 | elapsed:   40.2s finished\n"
     ]
    },
    {
     "name": "stdout",
     "output_type": "stream",
     "text": [
      "Best: 0.680614 using {'max_depth': 8}\n"
     ]
    }
   ],
   "source": [
    "xgb3 = XGBClassifier(\n",
    "    learning_rate =0.1,\n",
    "    n_estimators=100,\n",
    "    max_depth=9,\n",
    "    min_child_weight=1,\n",
    "    gamma=0,\n",
    "    subsample=0.8,\n",
    "    colsample_bytree=0.8,\n",
    "    objective= 'multi:softmax',\n",
    "    n_jobs=-1,\n",
    "    scale_pos_weight=1,\n",
    "    seed=37)\n",
    "# modelfit(alg=xgb3)\n",
    "param_grid = {\n",
    "    'max_depth':[8, 9, 10]\n",
    "}\n",
    "kfold = KFold(n_splits=5, shuffle=True, random_state=27)\n",
    "# kfold = KFold(n_splits=5)\n",
    "grid_search=RandomizedSearchCV(xgb2, param_grid, scoring='accuracy', cv=kfold, n_iter=3, verbose=1)\n",
    "# grid_search = GridSearchCV(xgb2, param_grid, scoring=\"accuracy\", n_jobs=-1, cv=kfold, verbose=1)\n",
    "grid_result = grid_search.fit(X_train, y_train)\n",
    "print(\"Best: %f using %s\" % (grid_result.best_score_, grid_result.best_params_))"
   ]
  },
  {
   "cell_type": "code",
   "execution_count": 23,
   "metadata": {},
   "outputs": [
    {
     "name": "stdout",
     "output_type": "stream",
     "text": [
      "fit time: 2.9198462972693733\n",
      "Accuracy: 66.59%\n",
      "\n",
      "Model Report\n",
      "RMSE : 2.236\n",
      "CV Score : Mean - 0.06761 | Std - 0.01078 | Min - 0.05683 | Max - 0.07839\n",
      "Fitting 5 folds for each of 3 candidates, totalling 15 fits\n"
     ]
    },
    {
     "name": "stderr",
     "output_type": "stream",
     "text": [
      "[Parallel(n_jobs=1)]: Done  15 out of  15 | elapsed:   31.3s finished\n"
     ]
    },
    {
     "name": "stdout",
     "output_type": "stream",
     "text": [
      "Best: 0.681299 using {'gamma': 0.4}\n"
     ]
    }
   ],
   "source": [
    "# gama Minimum loss reduction required to make a further partition on a leaf node of the tree.\n",
    "xgb4 = XGBClassifier(\n",
    "    learning_rate =0.1,\n",
    "    n_estimators=100,\n",
    "    max_depth=8,\n",
    "    min_child_weight=1,\n",
    "    gamma=0,\n",
    "    subsample=0.8,\n",
    "    colsample_bytree=0.8,\n",
    "    objective= 'multi:softmax',\n",
    "    n_jobs=-1,\n",
    "    scale_pos_weight=1,\n",
    "    seed=40)\n",
    "modelfit(alg=xgb4)\n",
    "param_grid = {\n",
    "    'gamma':[i/10.0 for i in range(0,9,4)]\n",
    "}\n",
    "kfold = KFold(n_splits=5, shuffle=True, random_state=27)\n",
    "# kfold = KFold(n_splits=5)\n",
    "grid_search=RandomizedSearchCV(xgb2, param_grid, scoring='accuracy', cv=kfold, n_iter=3, verbose=1)\n",
    "# grid_search = GridSearchCV(xgb2, param_grid, scoring=\"accuracy\", n_jobs=-1, cv=kfold, verbose=1)\n",
    "grid_result = grid_search.fit(X_train, y_train)\n",
    "print(\"Best: %f using %s\" % (grid_result.best_score_, grid_result.best_params_))"
   ]
  },
  {
   "cell_type": "code",
   "execution_count": 24,
   "metadata": {},
   "outputs": [
    {
     "name": "stdout",
     "output_type": "stream",
     "text": [
      "fit time: 2.9693608273616405\n",
      "Accuracy: 66.59%\n",
      "\n",
      "Model Report\n",
      "RMSE : 2.236\n",
      "CV Score : Mean - 0.1165 | Std - 0.02817 | Min - 0.08831 | Max - 0.1447\n",
      "Fitting 5 folds for each of 3 candidates, totalling 15 fits\n"
     ]
    },
    {
     "name": "stderr",
     "output_type": "stream",
     "text": [
      "[Parallel(n_jobs=1)]: Done  15 out of  15 | elapsed:   32.2s finished\n"
     ]
    },
    {
     "name": "stdout",
     "output_type": "stream",
     "text": [
      "Best: 0.680863 using {'subsample': 0.85, 'colsample_bytree': 0.85}\n",
      "34.816588743822194\n",
      "Best: 0.680863 using {'subsample': 0.85, 'colsample_bytree': 0.85}\n"
     ]
    }
   ],
   "source": [
    "# subsample Subsample ratio of the training instance.\n",
    "# colsample_bytree Subsample ratio of columns when constructing each tree.\n",
    "xgb5 = XGBClassifier(\n",
    "    learning_rate =0.1,\n",
    "    n_estimators=100,\n",
    "    max_depth=8,\n",
    "    min_child_weight=1,\n",
    "    gamma=0.4,\n",
    "    subsample=0.75,\n",
    "    colsample_bytree=0.8,\n",
    "    objective= 'multi:softmax',\n",
    "    n_jobs=-1,\n",
    "    scale_pos_weight=1,\n",
    "    seed=50)\n",
    "modelfit(alg=xgb5)\n",
    "param_grid = {\n",
    "     'subsample':[i/100.0 for i in range(75,86,5)],\n",
    "     'colsample_bytree':[i/100.0 for i in range(75,86,5)]\n",
    "}\n",
    "starttime = time.clock()\n",
    "kfold = KFold(n_splits=5, shuffle=True, random_state=27)\n",
    "# kfold = KFold(n_splits=5)\n",
    "grid_search=RandomizedSearchCV(xgb2, param_grid, scoring='accuracy', cv=kfold, n_iter=3, verbose=1)\n",
    "# grid_search = GridSearchCV(xgb2, param_grid, scoring=\"accuracy\", n_jobs=-1, cv=kfold, verbose=1)\n",
    "grid_result = grid_search.fit(X_train, y_train)\n",
    "print(\"Best: %f using %s\" % (grid_result.best_score_, grid_result.best_params_))\n",
    "endtime = time.clock()\n",
    "print (endtime - starttime)\n",
    "print(\"Best: %f using %s\" % (grid_result.best_score_, grid_result.best_params_))"
   ]
  },
  {
   "cell_type": "code",
   "execution_count": 25,
   "metadata": {},
   "outputs": [
    {
     "name": "stdout",
     "output_type": "stream",
     "text": [
      "fit time: 3.0540092891473023\n",
      "Accuracy: 66.59%\n",
      "\n",
      "Model Report\n",
      "RMSE : 2.236\n",
      "CV Score : Mean - 0.0997 | Std - 0.04553 | Min - 0.05418 | Max - 0.1452\n",
      "Fitting 5 folds for each of 3 candidates, totalling 15 fits\n"
     ]
    },
    {
     "name": "stderr",
     "output_type": "stream",
     "text": [
      "[Parallel(n_jobs=1)]: Done  15 out of  15 | elapsed:   27.6s finished\n"
     ]
    },
    {
     "name": "stdout",
     "output_type": "stream",
     "text": [
      "30.152238268746203\n",
      "Best: 0.679928 using {'reg_alpha': 1e-05}\n"
     ]
    }
   ],
   "source": [
    "# subsample Subsample ratio of the training instance.\n",
    "# colsample_bytree Subsample ratio of columns when constructing each tree.\n",
    "xgb6 = XGBClassifier(\n",
    "    learning_rate =0.1,\n",
    "    n_estimators=100,\n",
    "    max_depth=8,\n",
    "    min_child_weight=1,\n",
    "    gamma=0.4,\n",
    "    subsample=0.85,\n",
    "    colsample_bytree=0.85,\n",
    "    objective= 'multi:softmax',\n",
    "    n_jobs=-1,\n",
    "    scale_pos_weight=1,\n",
    "    seed=60)\n",
    "modelfit(alg=xgb6)\n",
    "param_grid = {\n",
    "    'reg_alpha':[1e-5, 1e-2, 0.1, 1, 100]\n",
    "}\n",
    "starttime = time.clock()\n",
    "kfold = KFold(n_splits=5, shuffle=True, random_state=27)\n",
    "# kfold = KFold(n_splits=5)\n",
    "grid_search=RandomizedSearchCV(xgb2, param_grid, scoring='accuracy', cv=kfold, n_iter=3, verbose=1)\n",
    "# grid_search = GridSearchCV(xgb2, param_grid, scoring=\"accuracy\", n_jobs=-1, cv=kfold, verbose=1)\n",
    "grid_result = grid_search.fit(X_train, y_train)\n",
    "endtime = time.clock()\n",
    "print (endtime - starttime)\n",
    "print(\"Best: %f using %s\" % (grid_result.best_score_, grid_result.best_params_))"
   ]
  },
  {
   "cell_type": "code",
   "execution_count": 26,
   "metadata": {},
   "outputs": [
    {
     "name": "stdout",
     "output_type": "stream",
     "text": [
      "fit time: 2.979767649411997\n",
      "Accuracy: 66.59%\n",
      "\n",
      "Model Report\n",
      "RMSE : 2.236\n",
      "CV Score : Mean - 0.1317 | Std - 0.01306 | Min - 0.1186 | Max - 0.1447\n",
      "Fitting 5 folds for each of 3 candidates, totalling 15 fits\n"
     ]
    },
    {
     "name": "stderr",
     "output_type": "stream",
     "text": [
      "[Parallel(n_jobs=1)]: Done  15 out of  15 | elapsed:   32.3s finished\n"
     ]
    },
    {
     "name": "stdout",
     "output_type": "stream",
     "text": [
      "34.74239329959778\n",
      "Best: 0.680364 using {'reg_alpha': 0.01}\n"
     ]
    }
   ],
   "source": [
    "# subsample Subsample ratio of the training instance.\n",
    "# colsample_bytree Subsample ratio of columns when constructing each tree.\n",
    "xgb6 = XGBClassifier(\n",
    "    learning_rate =0.1,\n",
    "    n_estimators=100,\n",
    "    max_depth=11,\n",
    "    min_child_weight=1,\n",
    "    gamma=0.4,\n",
    "    subsample=0.85,\n",
    "    colsample_bytree=0.85,\n",
    "    objective= 'multi:softmax',\n",
    "    n_jobs=-1,\n",
    "    scale_pos_weight=1,\n",
    "    seed=60)\n",
    "modelfit(alg=xgb6)\n",
    "param_grid = {\n",
    "    'reg_alpha':[0, 0.001, 0.005, 0.01, 0.05]\n",
    "}\n",
    "starttime = time.clock()\n",
    "kfold = KFold(n_splits=5, shuffle=True, random_state=27)\n",
    "# kfold = KFold(n_splits=5)\n",
    "grid_search=RandomizedSearchCV(xgb2, param_grid, scoring='accuracy', cv=kfold, n_iter=3, verbose=1)\n",
    "# grid_search = GridSearchCV(xgb2, param_grid, scoring=\"accuracy\", n_jobs=-1, cv=kfold, verbose=1)\n",
    "grid_result = grid_search.fit(X_train, y_train)\n",
    "endtime = time.clock()\n",
    "print (endtime - starttime)\n",
    "print(\"Best: %f using %s\" % (grid_result.best_score_, grid_result.best_params_))"
   ]
  },
  {
   "cell_type": "code",
   "execution_count": 27,
   "metadata": {},
   "outputs": [
    {
     "name": "stdout",
     "output_type": "stream",
     "text": [
      "fit time: 3.6036069069988343\n",
      "Accuracy: 66.59%\n",
      "\n",
      "Model Report\n",
      "RMSE : 2.236\n",
      "CV Score : Mean - 0.06669 | Std - 0.05135 | Min - 0.01534 | Max - 0.118\n"
     ]
    }
   ],
   "source": [
    "# subsample Subsample ratio of the training instance.\n",
    "# colsample_bytree Subsample ratio of columns when constructing each tree.\n",
    "xgb7 = XGBClassifier(\n",
    "    learning_rate =0.01,\n",
    "    n_estimators=100,\n",
    "    max_depth=9,\n",
    "    min_child_weight=1,\n",
    "    gamma=0.4,\n",
    "    subsample=0.85,\n",
    "    colsample_bytree=0.85,\n",
    "    objective= 'multi:softmax',\n",
    "    n_jobs=-1,\n",
    "    scale_pos_weight=1,\n",
    "    reg_alpha=0.01,\n",
    "    seed=70)\n",
    "modelfit(alg=xgb7)\n",
    "# param_grid = {\n",
    "#     'reg_alpha':[0, 0.001, 0.005, 0.01, 0.05]\n",
    "# }\n",
    "# starttime = time.clock()\n",
    "# kfold = StratifiedKFold(n_splits=5, shuffle=True, random_state=60)\n",
    "# grid_search = GridSearchCV(xgb6, param_grid, scoring=\"accuracy\", n_jobs=-1, cv=kfold, verbose=1)\n",
    "# grid_result = grid_search.fit(X_train, y_train)\n",
    "# endtime = time.clock()\n",
    "# print (endtime - starttime)\n",
    "# print(\"Best: %f using %s\" % (grid_result.best_score_, grid_result.best_params_))"
   ]
  },
  {
   "cell_type": "code",
   "execution_count": 28,
   "metadata": {},
   "outputs": [
    {
     "name": "stdout",
     "output_type": "stream",
     "text": [
      "Accuracy: 67.73%\n"
     ]
    }
   ],
   "source": [
    "getAccuracy(xgb7, x_test, y_test)"
   ]
  },
  {
   "cell_type": "code",
   "execution_count": null,
   "metadata": {},
   "outputs": [],
   "source": []
  }
 ],
 "metadata": {
  "kernelspec": {
   "display_name": "Python 3",
   "language": "python",
   "name": "python3"
  },
  "language_info": {
   "codemirror_mode": {
    "name": "ipython",
    "version": 3
   },
   "file_extension": ".py",
   "mimetype": "text/x-python",
   "name": "python",
   "nbconvert_exporter": "python",
   "pygments_lexer": "ipython3",
   "version": "3.6.5"
  }
 },
 "nbformat": 4,
 "nbformat_minor": 2
}
